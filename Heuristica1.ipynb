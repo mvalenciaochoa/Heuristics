{
  "cells": [
    {
      "cell_type": "markdown",
      "metadata": {
        "id": "oaFfYKviFkhO"
      },
      "source": [
        "# Imports"
      ]
    },
    {
      "cell_type": "code",
      "execution_count": null,
      "metadata": {
        "colab": {
          "base_uri": "https://localhost:8080/"
        },
        "id": "MUIDtBUQ4-5_",
        "outputId": "88bcc1ad-235a-4073-e165-2130176f4c50"
      },
      "outputs": [
        {
          "output_type": "stream",
          "name": "stdout",
          "text": [
            "Collecting xlsxwriter\n",
            "  Downloading XlsxWriter-3.0.3-py3-none-any.whl (149 kB)\n",
            "\u001b[?25l\r\u001b[K     |██▏                             | 10 kB 15.4 MB/s eta 0:00:01\r\u001b[K     |████▍                           | 20 kB 9.0 MB/s eta 0:00:01\r\u001b[K     |██████▌                         | 30 kB 6.7 MB/s eta 0:00:01\r\u001b[K     |████████▊                       | 40 kB 7.3 MB/s eta 0:00:01\r\u001b[K     |███████████                     | 51 kB 4.5 MB/s eta 0:00:01\r\u001b[K     |█████████████                   | 61 kB 5.2 MB/s eta 0:00:01\r\u001b[K     |███████████████▎                | 71 kB 5.1 MB/s eta 0:00:01\r\u001b[K     |█████████████████▌              | 81 kB 5.1 MB/s eta 0:00:01\r\u001b[K     |███████████████████▋            | 92 kB 5.7 MB/s eta 0:00:01\r\u001b[K     |█████████████████████▉          | 102 kB 5.0 MB/s eta 0:00:01\r\u001b[K     |████████████████████████        | 112 kB 5.0 MB/s eta 0:00:01\r\u001b[K     |██████████████████████████▏     | 122 kB 5.0 MB/s eta 0:00:01\r\u001b[K     |████████████████████████████▍   | 133 kB 5.0 MB/s eta 0:00:01\r\u001b[K     |██████████████████████████████▋ | 143 kB 5.0 MB/s eta 0:00:01\r\u001b[K     |████████████████████████████████| 149 kB 5.0 MB/s \n",
            "\u001b[?25hInstalling collected packages: xlsxwriter\n",
            "Successfully installed xlsxwriter-3.0.3\n"
          ]
        }
      ],
      "source": [
        "pip install xlsxwriter"
      ]
    },
    {
      "cell_type": "code",
      "execution_count": null,
      "metadata": {
        "id": "AxXFbdbIMJGX"
      },
      "outputs": [],
      "source": [
        "import zipfile\n",
        "import pandas as pd\n",
        "import numpy as np\n",
        "import matplotlib as plt\n",
        "import random as rd\n",
        "import time\n",
        "import os\n",
        "import openpyxl\n",
        "import xlsxwriter"
      ]
    },
    {
      "cell_type": "markdown",
      "metadata": {
        "id": "b-tzQcvnFoaJ"
      },
      "source": [
        "# Data read"
      ]
    },
    {
      "cell_type": "code",
      "execution_count": null,
      "metadata": {
        "colab": {
          "base_uri": "https://localhost:8080/"
        },
        "id": "RLM5O_-LMsxN",
        "outputId": "831a72c2-1224-4815-c8f1-b6e74dd58e91"
      },
      "outputs": [
        {
          "output_type": "stream",
          "name": "stdout",
          "text": [
            "['pmedcap1.txt', 'pmedcap11.txt', 'pmedcap12.txt', 'pmedcap13.txt', 'pmedcap14.txt', 'pmedcap15.txt', 'pmedcap2.txt', 'pmedcap3.txt', 'pmedcap4.txt', 'pmedcap5.txt', 'pmedcap6.txt', 'pmedcap7.txt', 'pmedcap8.txt', 'pmedcap9.txt']\n",
            "50\t5\t\t\n",
            "\n",
            "['50', '5', '', '\\n']\n",
            "['50', '5']\n",
            "pmedcap1.txt\n",
            "3038\t1000\t\t\n",
            "\n",
            "['3038', '1000', '', '\\n']\n",
            "['3038', '1000']\n",
            "pmedcap11.txt\n",
            "3038\t900\t\t\n",
            "\n",
            "['3038', '900', '', '\\n']\n",
            "['3038', '900']\n",
            "pmedcap12.txt\n",
            "3038\t800\t\t\n",
            "\n",
            "['3038', '800', '', '\\n']\n",
            "['3038', '800']\n",
            "pmedcap13.txt\n",
            "3038\t700\t\t\n",
            "\n",
            "['3038', '700', '', '\\n']\n",
            "['3038', '700']\n",
            "pmedcap14.txt\n",
            "3038\t600\t\t\n",
            "\n",
            "['3038', '600', '', '\\n']\n",
            "['3038', '600']\n",
            "pmedcap15.txt\n",
            "50\t5\t\t\n",
            "\n",
            "['50', '5', '', '\\n']\n",
            "['50', '5']\n",
            "pmedcap2.txt\n",
            "100\t10\t\t\n",
            "\n",
            "['100', '10', '', '\\n']\n",
            "['100', '10']\n",
            "pmedcap3.txt\n",
            "100\t10\t\t\n",
            "\n",
            "['100', '10', '', '\\n']\n",
            "['100', '10']\n",
            "pmedcap4.txt\n",
            "100\t10\t\t\n",
            "\n",
            "['100', '10', '', '\\n']\n",
            "['100', '10']\n",
            "pmedcap5.txt\n",
            "200\t15\t\t\n",
            "\n",
            "['200', '15', '', '\\n']\n",
            "['200', '15']\n",
            "pmedcap6.txt\n",
            "300\t25\t\t\n",
            "\n",
            "['300', '25', '', '\\n']\n",
            "['300', '25']\n",
            "pmedcap7.txt\n",
            "300\t30\t\t\n",
            "\n",
            "['300', '30', '', '\\n']\n",
            "['300', '30']\n",
            "pmedcap8.txt\n",
            "402\t30\t\t\n",
            "\n",
            "['402', '30', '', '\\n']\n",
            "['402', '30']\n",
            "pmedcap9.txt\n"
          ]
        }
      ],
      "source": [
        "writer1= pd.ExcelWriter('constructivo.xlsx',engine='xlsxwriter')\n",
        "writer2= pd.ExcelWriter('GRASP.xlsx',engine='xlsxwriter')\n",
        "writer3 = pd.ExcelWriter('ruido.xlsx',engine='xlsxwriter')\n",
        "k=3\n",
        "s= zipfile.ZipFile('pmedcap.zip','r')\n",
        "Zipfile = ('pmedcap.zip','r')\n",
        "with s as zipObj:\n",
        "  listOfiles = zipObj.namelist()\n",
        "  print(listOfiles)\n",
        "  for elem in listOfiles:\n",
        "    txtdata = s.extract(elem)\n",
        "    listN = []\n",
        "    with open(txtdata) as f:\n",
        "      lines = f.readline()\n",
        "      print(lines)\n",
        "      list1 = list(lines.split(\"\\t\"))\n",
        "      print(list1)\n",
        "      lista = list(list1[0:2])\n",
        "      print(lista)\n",
        "      results = [int(i) for i in lista]\n",
        "      while lines:\n",
        "        lines = f.readline()\n",
        "        if lines == \"\":\n",
        "          break\n",
        "        else:\n",
        "          list1 = list(lines.split(\"\\t\"))\n",
        "          lista = [int(i) for i in list1]\n",
        "          lista = np.array(lista)\n",
        "          listN.append(lista)\n",
        "\n",
        "    listNodos = np.array(listN.copy())\n",
        "    numNodos = results[0]\n",
        "    numPmedians = results[1]\n",
        "    g = grasp(listNodos, numPmedians, numNodos)\n",
        "    c= constructivo1(listNodos,numPmedians,numNodos)\n",
        "    r = ruido1(listNodos,numPmedians,numNodos)\n",
        "    print(elem)\n",
        "    c.to_excel(writer1,sheet_name=elem)\n",
        "    g.to_excel(writer2, sheet_name = elem)\n",
        "    r.to_excel(writer3, sheet_name = elem)\n",
        "\n",
        "writer1.save()\n",
        "writer2.save()\n",
        "writer3.save()\n",
        "\n"
      ]
    },
    {
      "cell_type": "markdown",
      "metadata": {
        "id": "cdGLkvRyHmj3"
      },
      "source": [
        "# Graficamos"
      ]
    },
    {
      "cell_type": "code",
      "execution_count": null,
      "metadata": {
        "colab": {
          "base_uri": "https://localhost:8080/",
          "height": 282
        },
        "id": "gblqrKGKHqnY",
        "outputId": "082cf08f-1cf8-4782-b3c8-308af09d1de0"
      },
      "outputs": [
        {
          "data": {
            "text/plain": [
              "<matplotlib.collections.PathCollection at 0x7f6aba666cd0>"
            ]
          },
          "execution_count": 4,
          "metadata": {},
          "output_type": "execute_result"
        },
        {
          "data": {
            "image/png": "[encoded data removed]",
            "text/plain": [
              "<Figure size 432x288 with 1 Axes>"
            ]
          },
          "metadata": {},
          "output_type": "display_data"
        }
      ],
      "source": [
        "plt.pyplot.scatter(listNodos[:,0], listNodos[:, 1])"
      ]
    },
    {
      "cell_type": "markdown",
      "metadata": {
        "id": "iQXyFBT9Fr23"
      },
      "source": [
        "# Constructivo eliminación\n",
        "\n",
        "\n"
      ]
    },
    {
      "cell_type": "markdown",
      "metadata": {
        "id": "vN81p_iBGH4W"
      },
      "source": [
        "Si la funcion objetivo a optimizar fuera minimizar la distancia total recorrida por los usuarios y los usuarios de un posible nodo pueden repartirse entre varias otras medianas se propone el siguiente algoritmo\n",
        "min Z = sum(dist_i) refiriendose a la distancia recorrida por cada usuario que tambien se podria representar min Z = sum(dist_j * personas_j) que es la suma de distancia de cada nodo eliminado por la cantidad de personas que tienen que recorrer esa distancia"
      ]
    },
    {
      "cell_type": "code",
      "execution_count": null,
      "metadata": {
        "colab": {
          "base_uri": "https://localhost:8080/",
          "height": 321
        },
        "id": "gWeKoDcME4uu",
        "outputId": "592d8b8e-0a7d-4f09-faba-bd02a491dac0"
      },
      "outputs": [
        {
          "ename": "KeyboardInterrupt",
          "evalue": "ignored",
          "output_type": "error",
          "traceback": [
            "\u001b[0;31m---------------------------------------------------------------------------\u001b[0m",
            "\u001b[0;31mKeyboardInterrupt\u001b[0m                         Traceback (most recent call last)",
            "\u001b[0;32m<ipython-input-9-4e5916fc6bfe>\u001b[0m in \u001b[0;36m<module>\u001b[0;34m()\u001b[0m\n\u001b[1;32m      8\u001b[0m     \u001b[0mlistDist\u001b[0m \u001b[0;34m=\u001b[0m \u001b[0;34m[\u001b[0m\u001b[0;34m]\u001b[0m\u001b[0;34m\u001b[0m\u001b[0;34m\u001b[0m\u001b[0m\n\u001b[1;32m      9\u001b[0m     \u001b[0;32mfor\u001b[0m \u001b[0mn\u001b[0m \u001b[0;32min\u001b[0m \u001b[0mrange\u001b[0m\u001b[0;34m(\u001b[0m\u001b[0maux\u001b[0m\u001b[0;34m[\u001b[0m\u001b[0;34m:\u001b[0m\u001b[0;34m,\u001b[0m \u001b[0;36m0\u001b[0m\u001b[0;34m]\u001b[0m\u001b[0;34m.\u001b[0m\u001b[0msize\u001b[0m\u001b[0;34m)\u001b[0m\u001b[0;34m:\u001b[0m\u001b[0;34m\u001b[0m\u001b[0;34m\u001b[0m\u001b[0m\n\u001b[0;32m---> 10\u001b[0;31m       \u001b[0mdist\u001b[0m \u001b[0;34m=\u001b[0m \u001b[0mdistancia\u001b[0m\u001b[0;34m(\u001b[0m\u001b[0maux\u001b[0m\u001b[0;34m[\u001b[0m\u001b[0mn\u001b[0m\u001b[0;34m,\u001b[0m\u001b[0;36m0\u001b[0m\u001b[0;34m]\u001b[0m\u001b[0;34m,\u001b[0m\u001b[0maux\u001b[0m\u001b[0;34m[\u001b[0m\u001b[0mj\u001b[0m\u001b[0;34m,\u001b[0m\u001b[0;36m0\u001b[0m\u001b[0;34m]\u001b[0m\u001b[0;34m,\u001b[0m \u001b[0maux\u001b[0m\u001b[0;34m[\u001b[0m\u001b[0mn\u001b[0m\u001b[0;34m,\u001b[0m\u001b[0;36m1\u001b[0m\u001b[0;34m]\u001b[0m\u001b[0;34m,\u001b[0m \u001b[0maux\u001b[0m\u001b[0;34m[\u001b[0m\u001b[0mj\u001b[0m\u001b[0;34m,\u001b[0m\u001b[0;36m1\u001b[0m\u001b[0;34m]\u001b[0m \u001b[0;34m)\u001b[0m\u001b[0;34m\u001b[0m\u001b[0;34m\u001b[0m\u001b[0m\n\u001b[0m\u001b[1;32m     11\u001b[0m       \u001b[0mlistDist\u001b[0m\u001b[0;34m.\u001b[0m\u001b[0mappend\u001b[0m\u001b[0;34m(\u001b[0m\u001b[0mdist\u001b[0m\u001b[0;34m)\u001b[0m\u001b[0;34m\u001b[0m\u001b[0;34m\u001b[0m\u001b[0m\n\u001b[1;32m     12\u001b[0m     \u001b[0mlistDis\u001b[0m \u001b[0;34m=\u001b[0m \u001b[0mnp\u001b[0m\u001b[0;34m.\u001b[0m\u001b[0marray\u001b[0m\u001b[0;34m(\u001b[0m\u001b[0mlistDist\u001b[0m\u001b[0;34m)\u001b[0m\u001b[0;34m\u001b[0m\u001b[0;34m\u001b[0m\u001b[0m\n",
            "\u001b[0;32m<ipython-input-3-96f3929cc12e>\u001b[0m in \u001b[0;36mdistancia\u001b[0;34m(a1, a2, b1, b2)\u001b[0m\n\u001b[1;32m      1\u001b[0m \u001b[0;32mdef\u001b[0m \u001b[0mdistancia\u001b[0m\u001b[0;34m(\u001b[0m\u001b[0ma1\u001b[0m\u001b[0;34m,\u001b[0m \u001b[0ma2\u001b[0m\u001b[0;34m,\u001b[0m \u001b[0mb1\u001b[0m\u001b[0;34m,\u001b[0m \u001b[0mb2\u001b[0m\u001b[0;34m)\u001b[0m\u001b[0;34m:\u001b[0m\u001b[0;34m\u001b[0m\u001b[0;34m\u001b[0m\u001b[0m\n\u001b[0;32m----> 2\u001b[0;31m   \u001b[0mr\u001b[0m \u001b[0;34m=\u001b[0m \u001b[0mnp\u001b[0m\u001b[0;34m.\u001b[0m\u001b[0msqrt\u001b[0m\u001b[0;34m(\u001b[0m\u001b[0;34m(\u001b[0m\u001b[0ma1\u001b[0m\u001b[0;34m-\u001b[0m\u001b[0ma2\u001b[0m\u001b[0;34m)\u001b[0m\u001b[0;34m**\u001b[0m\u001b[0;36m2\u001b[0m\u001b[0;34m+\u001b[0m\u001b[0;34m(\u001b[0m\u001b[0mb1\u001b[0m\u001b[0;34m-\u001b[0m\u001b[0mb2\u001b[0m\u001b[0;34m)\u001b[0m\u001b[0;34m**\u001b[0m\u001b[0;36m2\u001b[0m\u001b[0;34m)\u001b[0m\u001b[0;34m\u001b[0m\u001b[0;34m\u001b[0m\u001b[0m\n\u001b[0m\u001b[1;32m      3\u001b[0m   \u001b[0;32mreturn\u001b[0m \u001b[0mr\u001b[0m\u001b[0;34m\u001b[0m\u001b[0;34m\u001b[0m\u001b[0m\n",
            "\u001b[0;31mKeyboardInterrupt\u001b[0m: "
          ]
        }
      ],
      "source": [
        "#elimination process\n",
        "aux = listNodos.copy()\n",
        "for i in range(numNodos - numPmedians ):\n",
        "  leastFav = np.where(aux[:, 3] == np.amin(aux[:,3]))\n",
        "  desList = []\n",
        "  closeNodes = []\n",
        "  for j in leastFav[0]:\n",
        "    listDist = []\n",
        "    for n in range(aux[:, 0].size):\n",
        "      dist = distancia(aux[n,0],aux[j,0], aux[n,1], aux[j,1] )\n",
        "      listDist.append(dist)\n",
        "    listDis = np.array(listDist)\n",
        "    minDist = np.amin(listDis[np.nonzero(listDis)])\n",
        "    desList.append(minDist)\n",
        "    closerNode = np.where(listDis == minDist)[0][0]\n",
        "    closeNodes.append(closerNode)\n",
        "  desList1 = np.array(desList.copy())\n",
        "  leastFav = np.array(leastFav)\n",
        "  eliminated = leastFav[0][np.where(desList1 == np.amax(desList1))[0][0]]\n",
        "  closest = closeNodes[np.where(desList1 == np.amax(desList1))[0][0]]\n",
        "  aux[closest, 3] += aux[eliminated, 3]\n",
        "  #print(eliminated)\n",
        "  aux = np.delete(aux.copy(), eliminated, axis=0)\n",
        "#print(np.sum(aux[:, 3]))\n",
        "\n",
        "#correcting for capacity\n",
        "listChosen = []\n",
        "for a in range(aux[:,0].size):\n",
        "\n",
        "  if aux[a,3] > aux[a,2]:\n",
        "    dif = aux[a,3] - aux[a,2]\n",
        "    listDist = []\n",
        "    indexes = []\n",
        "    sortedDists = []\n",
        "    for m in range(aux[:,0].size):\n",
        "      distance = distancia(aux[a,0], aux[m,0], aux[a,1], aux[m,1] )\n",
        "      listDist.append(distance)\n",
        "      indexes.append(m)\n",
        "    sortedDists.append(indexes)\n",
        "    sortedDists.append(listDist)\n",
        "    sortedDists = np.array(sortedDists.copy())\n",
        "    sortedArr = sortedDists[ :, sortedDists[1].argsort()]\n",
        "    for m in range(aux[:,0].size-1):\n",
        "      c1 = int(sortedArr[0, m+1])\n",
        "      if aux[c1, 2] > aux[c1, 3]:\n",
        "        dif1 = aux[c1, 2] - aux[c1, 3]\n",
        "        aux[c1, 3] += min(dif1, dif)\n",
        "        aux[a,3] -= min(dif1,dif)\n",
        "        dif = dif - dif1 \n",
        "        if dif <= 0:\n",
        "          break \n",
        "\n",
        "  vector1 = listNodos[:, 0]\n",
        "  vector2 = listNodos[:, 1]\n",
        "  b1 = np.where(vector1 == aux[a, 0])[0]\n",
        "  b2 = np.where(vector2 == aux[a, 1])[0]\n",
        "  listChosen.append(np.intersect1d(b1, b2)[0])\n",
        "print(listChosen)\n",
        "  \n",
        "  #print(aux[a, 3])\n",
        "#print(sum(aux[:, 3]))\n",
        "#print(np.intersect1d(b1, b2)[0])\n",
        "\n",
        "\n",
        "\n"
      ]
    },
    {
      "cell_type": "markdown",
      "metadata": {
        "id": "ZSi5lr76oske"
      },
      "source": [
        "# Constructivo ahorros"
      ]
    },
    {
      "cell_type": "markdown",
      "metadata": {
        "id": "QODuSBmPKgwr"
      },
      "source": [
        "Si la funcion objetivo es unicamente seleccionar las medianas que menor distancia tengan a los nodos se propone el algoritmo de los ahorros (tomando en cuenta que no )"
      ]
    },
    {
      "cell_type": "code",
      "execution_count": null,
      "metadata": {
        "id": "Jof75MqTRmK2"
      },
      "outputs": [],
      "source": [
        "def constructivo1(listNodos, numPmedians, numNodos) : \n",
        "  start_time = time.time()\n",
        "  m = 1000000000000 \n",
        "  aux1 = listNodos.copy()\n",
        "  aux5 = listNodos.copy()\n",
        "  possibles = []\n",
        "  listDistances = np.zeros([numNodos, numNodos])\n",
        "  jointed = np.zeros((numNodos, numNodos))\n",
        "\n",
        "  for i in range(numNodos):\n",
        "    listDistance = np.zeros(numNodos)\n",
        "    for n in range( numNodos):\n",
        "      distance = distancia(aux1[i, 0], aux1[n, 0], aux1[i, 1], aux1[n, 1]) \n",
        "      listDistance[n] = distance\n",
        "    listDistances[i] += listDistance\n",
        "\n",
        "  sumDist = sum(listDistances)\n",
        "  sortedDistances = sorted(range(len(sumDist)), key = lambda k: sumDist[k])\n",
        "  for i in range(numPmedians):\n",
        "    possibles.append(sortedDistances[i])\n",
        "\n",
        "\n",
        "  listDistances = np.array(listDistances)\n",
        "  minDist = np.amin(listDistances[np.nonzero(listDistances)])\n",
        "  minDistIndex = np.where(listDistances == minDist)\n",
        "  arr1 = np.array([minDistIndex[0][0], minDistIndex[1][0]])\n",
        "\n",
        "  ayuda = list(map(lambda el:[el], possibles.copy()))\n",
        "  ayuda1 = np.array(possibles.copy())\n",
        "  for j in range(numNodos):\n",
        "    array = listDistances[:,j]\n",
        "    sort = sorted(range(len(array)), key = lambda k: array[k])\n",
        "    for v in sort:\n",
        "          if aux5[v, 2] > aux5[v, 3] + aux5[j, 3] and v in ayuda1:\n",
        "            addTo = np.where(ayuda1 == v)[0][0]\n",
        "            aux5[v, 3] += aux5[j, 3]\n",
        "            ayuda[addTo].append(j)\n",
        "            break\n",
        "\n",
        "  fo = np.zeros(len(possibles))\n",
        "  ayuda1 = np.array(possibles.copy())\n",
        "  for y in possibles:\n",
        "    ayu = np.where(ayuda1 == y)\n",
        "    added = 0\n",
        "    for x in ayuda[ayu[0][0]]:\n",
        "      added += listDistances[y, x]\n",
        "    fo[ayu[0][0]] += added\n",
        "  sumaTotal = sum(fo)\n",
        "\n",
        "  for y in range(len(fo)):\n",
        "    ayuda[y].append(fo[y])\n",
        "  ultimaFila = [sumaTotal, time.time() - start_time ]\n",
        "  possibles.append(ayuda)\n",
        "  possibles.append(ultimaFila)\n",
        "  dfpossibles= pd.DataFrame(possibles)\n",
        "  return dfpossibles\n",
        "\n",
        "\n",
        "\n",
        "  \n"
      ]
    },
    {
      "cell_type": "markdown",
      "metadata": {
        "id": "lFATG7ssNIn0"
      },
      "source": [
        "# True"
      ]
    },
    {
      "cell_type": "code",
      "execution_count": null,
      "metadata": {
        "id": "0ZfnBcVz2b9u"
      },
      "outputs": [],
      "source": [
        "def constructivo(listNodos, numPmedians, numNodos): \n",
        "  start_time = time.time()\n",
        "  aux2 = listNodos.copy()\n",
        "  aux4 = listNodos.copy()\n",
        "  possibles = list(range(0,numNodos))\n",
        "  listDistances = np.zeros([numNodos, numNodos])\n",
        "  eliminated = []\n",
        "\n",
        "\n",
        "  for i in range(numNodos):\n",
        "    listDistance = np.zeros(numNodos)\n",
        "    for n in range(numNodos):\n",
        "      distance = distancia(aux2[i, 0], aux2[n, 0], aux2[i, 1], aux2[n, 1]) \n",
        "      listDistance[n] = distance\n",
        "    listDistances[i] += listDistance\n",
        "  listDistances = np.array(listDistances) \n",
        "\n",
        "\n",
        "  auxiliary = np.zeros(numNodos)\n",
        "  for ñ in range(numNodos-numPmedians + 1):\n",
        "    jointed = auxiliary.copy()\n",
        "    ayuda = list(map(lambda el:[el], possibles.copy()))\n",
        "\n",
        "\n",
        "    for j in range(numNodos ):\n",
        "      arrr = listDistances[:,j]\n",
        "      minimo = np.amin(arrr[np.nonzero(arrr)])\n",
        "      indice = np.where(arrr == minimo)[0][0]\n",
        "      jointed[indice] += 1\n",
        "      if len(possibles) == numPmedians and not j in possibles:\n",
        "        ayuda1 = np.array(possibles.copy())\n",
        "        if aux4[indice,2] >= aux4[indice,3] + aux4[j, 3]:\n",
        "          addTo = np.where(ayuda1 == indice)[0][0]\n",
        "          ayuda[addTo].append(j)\n",
        "          aux4[indice, 3] += aux4[j, 3]\n",
        "        else:\n",
        "          arrr5 = listDistances[:, j].copy()\n",
        "          rank1 = sorted(range(len(arrr5)), key = lambda k: arrr5[k])\n",
        "          for v in rank1:\n",
        "            if aux4[v, 2] > aux4[v, 3] + aux4[j, 3] and v in ayuda1:\n",
        "              addTo = np.where(ayuda1 == v)[0][0]\n",
        "              aux4[v, 3] += aux4[j, 3]\n",
        "              ayuda[addTo].append(j)\n",
        "              break\n",
        "\n",
        "          \n",
        "\n",
        "\n",
        "    if len(possibles) == numPmedians:\n",
        "      fo = np.zeros(len(possibles))\n",
        "      ayuda1 = np.array(possibles.copy())\n",
        "      for y in possibles:\n",
        "        ayu = np.where(ayuda1 == y)\n",
        "        added = 0\n",
        "        for x in ayuda[ayu[0][0]]:\n",
        "          added += listDistances[y, x]\n",
        "        fo[ayu[0][0]] += added\n",
        "\n",
        "\n",
        "    poop = np.where(jointed == np.amin(jointed[jointed > -1]))[0]\n",
        "    if poop.size > 1:\n",
        "      sumas = np.zeros(poop.size)\n",
        "      for t in poop:\n",
        "        shala = np.where(poop == t)\n",
        "        sumatron = sum(listDistances[:,t])  \n",
        "        sumas[shala[0][0]] = sumatron\n",
        "      shit = np.amax(sumas)\n",
        "      shala1 = np.where(sumas == shit)[0][0]\n",
        "      worse = poop[shala1]\n",
        "      arrr1 = listDistances[:, worse].copy()\n",
        "      rank = sorted(range(len(arrr1)), key = lambda k: arrr1[k])\n",
        "\n",
        "\n",
        "      for h in rank:\n",
        "        if aux2[h, 2] > aux2[h, 3] + aux2[worse, 3]:\n",
        "          aux2[h, 3] += aux2[worse, 3]\n",
        "          possibles.remove(worse)\n",
        "          eliminated.append(worse)\n",
        "          listDistances[h,:] += 10000000000000\n",
        "          auxiliary[worse] -= 1\n",
        "          break\n",
        "\n",
        "\n",
        "    else:\n",
        "\n",
        "      worse = poop[0]\n",
        "      arrr1 = listDistances[:, worse].copy()\n",
        "      rank = sorted(range(len(arrr1)), key = lambda k: arrr1[k])\n",
        "      for h in rank:\n",
        "        if aux2[h, 2] > aux2[h, 3] + aux2[worse, 3]:\n",
        "          aux2[h, 3] += aux2[worse, 3]\n",
        "          possibles.remove(worse)\n",
        "          eliminated.append(worse)\n",
        "          listDistances[h,:] += 10000000000000\n",
        "          auxiliary[worse] -= 1\n",
        "          break\n",
        "  chosen = []\n",
        "  for h in range(len(possibles) + 1):\n",
        "    t = ayuda[h][0]\n",
        "    cap = aux4[t,2]\n",
        "    dem = aux4[t,3]\n",
        "    chosen.append(t)\n",
        "  sumaFaltantes = sum(listNodos.copy()[:,3])\n",
        "\n",
        "  for y in range(len(fo)):\n",
        "    ayuda[y].append(fo[y])\n",
        "  total = sum(fo)\n",
        "  ultimaFila = [total, time.time() - start_time]\n",
        "\n",
        "  possibles.append(ayuda)\n",
        "  possibles.append(ultimaFila)\n",
        "  dfpossibles= pd.DataFrame(possibles)\n",
        "  return dfpossibles\n",
        "\n",
        "\n",
        "\n"
      ]
    },
    {
      "cell_type": "markdown",
      "metadata": {
        "id": "jF58UCVMFwwI"
      },
      "source": [
        "# GRASP"
      ]
    },
    {
      "cell_type": "code",
      "execution_count": null,
      "metadata": {
        "id": "GVb6vVp4F3HI"
      },
      "outputs": [],
      "source": [
        "def grasp(listNodos, numPmedians, numNodos) : \n",
        "  start_time = time.time()\n",
        "  aux1 = listNodos.copy()\n",
        "  listDistances1 = np.zeros([numNodos, numNodos])\n",
        "  mejorTotal = 10000000000000000000000000000000\n",
        "  mejorFo = []\n",
        "  mejorAgregados = []\n",
        "  for i in range(numNodos):\n",
        "    listDistance = np.zeros(numNodos)\n",
        "    for n in range(numNodos):\n",
        "      distance = distancia(aux1[i, 0], aux1[n, 0], aux1[i, 1], aux1[n, 1]) \n",
        "      listDistance[n] = distance\n",
        "    listDistances1[i] += listDistance\n",
        "  listDistances1 = np.array(listDistances1) \n",
        "  for n in range(200):\n",
        "    aux1 = listNodos.copy()\n",
        "    randomlist = rd.sample(range(0, numNodos), numPmedians)\n",
        "    rdlist = np.array(randomlist.copy())\n",
        "    añadidos = list(map(lambda el:[el], randomlist.copy()))\n",
        "    listDist = np.zeros((numNodos, numPmedians))\n",
        "    fo = np.zeros(numPmedians)\n",
        "    eliminados = randomlist.copy()\n",
        "\n",
        "    for l in randomlist:\n",
        "      indice1 = np.where(rdlist == l)[0][0]\n",
        "      listDist[:, indice1] += listDistances1[:, l]\n",
        "\n",
        "    for j in range(numNodos):\n",
        "      arrr = listDist[j,:]\n",
        "      minimo = np.amin(arrr[np.nonzero(arrr)])\n",
        "      indice = np.where(arrr == minimo)[0][0]\n",
        "      indice1 = rdlist[indice]\n",
        "      if not j in eliminados:\n",
        "        if aux1[indice1,2] > aux1[indice1, 3] + aux1[j, 3]:  \n",
        "          añadidos[indice].append(j)\n",
        "          aux1[indice1, 3] += aux1[j, 3]\n",
        "        else:\n",
        "          ranked = sorted(range(len(arrr)), key = lambda k: arrr[k])\n",
        "          ranked1 = rdlist[ranked]\n",
        "          for r in ranked1:\n",
        "            if aux1[r,2] > aux1[r, 3] + aux1[j, 3]:\n",
        "              u = np.where(ranked1 == r)[0][0]\n",
        "              añadidos[u].append(j)\n",
        "              aux1[r,3] += aux1[j,3]\n",
        "              break\n",
        "        eliminados.append(j)\n",
        "\n",
        "\n",
        "    for y in rdlist:\n",
        "      ayu1 = np.where(rdlist == y)\n",
        "      added1 = 0\n",
        "      for x in añadidos[ayu1[0][0]]:\n",
        "        added1 += listDistances1[y, x]\n",
        "      fo[ayu1[0][0]] += added1\n",
        "    sumam = sum(fo)\n",
        "\n",
        "    if sumam < mejorTotal:\n",
        "      mejorTotal = sumam\n",
        "      mejorAgregados = añadidos.copy()\n",
        "      mejorFo = fo\n",
        "      mejoresNodos = randomlist\n",
        "\n",
        "  for y in range(len(mejorFo)):\n",
        "    mejorAgregados[y].append(mejorFo[y])\n",
        "\n",
        "  total = sum(mejorFo)\n",
        "  ultimaFila = [total, time.time() - start_time]\n",
        "  mejoresNodos.append(mejorAgregados)\n",
        "  mejoresNodos.append(ultimaFila)\n",
        "  dfpossibles= pd.DataFrame(mejoresNodos)\n",
        "  return dfpossibles\n",
        "\n",
        "\n",
        "\n",
        "\n",
        "\n",
        "\n",
        "\n",
        "\n",
        "\n",
        "  "
      ]
    },
    {
      "cell_type": "markdown",
      "metadata": {
        "id": "bJIkq_aTF31F"
      },
      "source": [
        "# Ruido"
      ]
    },
    {
      "cell_type": "code",
      "execution_count": null,
      "metadata": {
        "id": "1CMnncPVF7Cu"
      },
      "outputs": [],
      "source": [
        "def ruido (listNodos, numPmedians, numNodos):\n",
        "  #Agregamos ruido a los datos iniciales por medio de una distribucion uniforme\n",
        "  start_time = time.time()\n",
        "  auxRuido = listNodos.copy()\n",
        "  xPosition = auxRuido[:, 0]\n",
        "  yPosition = auxRuido[:, 1]\n",
        "  extremes1 = np.amin(xPosition)\n",
        "  extremes2 = np.amin(yPosition)\n",
        "  noiseX = [rd.randrange(-extremes1, extremes1, 1) for i in range(numNodos)]\n",
        "  noiseY = [rd.randrange(-extremes2, extremes2, 1) for i in range(numNodos)]\n",
        "  xPosition += noiseX\n",
        "  yPosition += noiseY\n",
        "  auxRuido[:,0] = xPosition \n",
        "  auxRuido[:,1] = yPosition\n",
        "\n",
        "  #Hacemos nuestra eleccion basada en los datos modificados\n",
        "\n",
        "  possibles = list(range(0,numNodos))\n",
        "  listDistances = np.zeros([numNodos, numNodos])\n",
        "  aux2 = listNodos.copy()\n",
        "  aux4 = listNodos.copy()\n",
        "  eliminated = []\n",
        "\n",
        "  for i in range(numNodos):\n",
        "    listDistance = np.zeros(numNodos)\n",
        "    for n in range(numNodos):\n",
        "      distance = distancia(auxRuido[i, 0], auxRuido[n, 0], auxRuido[i, 1], auxRuido[n, 1]) \n",
        "      listDistance[n] = distance\n",
        "    listDistances[i] += listDistance\n",
        "  listDistances = np.array(listDistances) \n",
        "\n",
        "\n",
        "\n",
        "  auxiliary = np.zeros(numNodos)\n",
        "  for ñ in range(numNodos-numPmedians + 1):\n",
        "    jointed = auxiliary.copy()\n",
        "    ayuda = list(map(lambda el:[el], possibles.copy()))\n",
        "\n",
        "\n",
        "    for j in range(numNodos ):\n",
        "      arrr = listDistances[:,j]\n",
        "      minimo = np.amin(arrr[np.nonzero(arrr)])\n",
        "      indice = np.where(arrr == minimo)[0][0]\n",
        "      jointed[indice] += 1\n",
        "      if len(possibles) == numPmedians and not j in possibles:\n",
        "        ayuda1 = np.array(possibles.copy())\n",
        "        if aux4[indice,2] >= aux4[indice,3] + aux4[j, 3]:\n",
        "          addTo = np.where(ayuda1 == indice)[0][0]\n",
        "          ayuda[addTo].append(j)\n",
        "          aux4[indice, 3] += aux4[j, 3]\n",
        "        else:\n",
        "          arrr5 = listDistances[:, j].copy()\n",
        "          rank1 = sorted(range(len(arrr5)), key = lambda k: arrr5[k])\n",
        "          for v in rank1:\n",
        "            if aux4[v, 2] > aux4[v, 3] + aux4[j, 3] and v in ayuda1:\n",
        "              addTo = np.where(ayuda1 == v)[0][0]\n",
        "              aux4[v, 3] += aux4[j, 3]\n",
        "              ayuda[addTo].append(j)\n",
        "              break\n",
        "\n",
        "          \n",
        "\n",
        "\n",
        "    if len(possibles) == numPmedians:\n",
        "      fo = np.zeros(len(possibles))\n",
        "      ayuda1 = np.array(possibles.copy())\n",
        "      for y in possibles:\n",
        "        ayu = np.where(ayuda1 == y)\n",
        "        added = 0\n",
        "        for x in ayuda[ayu[0][0]]:\n",
        "          added += listDistances[y, x]\n",
        "        fo[ayu[0][0]] += added\n",
        "\n",
        "\n",
        "    poop = np.where(jointed == np.amin(jointed[jointed > -1]))[0]\n",
        "    if poop.size > 1:\n",
        "      sumas = np.zeros(poop.size)\n",
        "      for t in poop:\n",
        "        shala = np.where(poop == t)\n",
        "        sumatron = sum(listDistances[:,t])  \n",
        "        sumas[shala[0][0]] = sumatron\n",
        "      shit = np.amax(sumas)\n",
        "      shala1 = np.where(sumas == shit)[0][0]\n",
        "      worse = poop[shala1]\n",
        "      arrr1 = listDistances[:, worse].copy()\n",
        "      rank = sorted(range(len(arrr1)), key = lambda k: arrr1[k])\n",
        "\n",
        "\n",
        "      for h in rank:\n",
        "        if aux2[h, 2] > aux2[h, 3] + aux2[worse, 3]:\n",
        "          aux2[h, 3] += aux2[worse, 3]\n",
        "          possibles.remove(worse)\n",
        "          eliminated.append(worse)\n",
        "          listDistances[h,:] += 10000000000000\n",
        "          auxiliary[worse] -= 1\n",
        "          break\n",
        "\n",
        "\n",
        "    else:\n",
        "\n",
        "      worse = poop[0]\n",
        "      arrr1 = listDistances[:, worse].copy()\n",
        "      rank = sorted(range(len(arrr1)), key = lambda k: arrr1[k])\n",
        "      for h in rank:\n",
        "        if aux2[h, 2] > aux2[h, 3] + aux2[worse, 3]:\n",
        "          aux2[h, 3] += aux2[worse, 3]\n",
        "          possibles.remove(worse)\n",
        "          eliminated.append(worse)\n",
        "          listDistances[h,:] += 10000000000000\n",
        "          auxiliary[worse] -= 1\n",
        "          break\n",
        "\n",
        "  for h in range(len(possibles) + 1):\n",
        "    t = ayuda[h][0]\n",
        "    cap = aux4[t,2]\n",
        "    dem = aux4[t,3]\n",
        "  sumaFaltantes = sum(listNodos.copy()[:,3])\n",
        "\n",
        "  total = sum(fo)\n",
        "  ultimaFila = [total, time.time() - start_time]\n",
        "\n",
        "  possibles.append(ayuda)\n",
        "  possibles.append(ultimaFila)\n",
        "  dfpossibles= pd.DataFrame(possibles)\n",
        "  return dfpossibles\n",
        "\n",
        "\n",
        "\n",
        "\n",
        "\n",
        "\n",
        "\n",
        "\n",
        "\n"
      ]
    },
    {
      "cell_type": "code",
      "execution_count": null,
      "metadata": {
        "id": "DtyGwMT2SdaO"
      },
      "outputs": [],
      "source": [
        "def ruido1 (listNodos, numPmedians, numNodos):\n",
        "  k = 10\n",
        "  k1 = 10\n",
        "  start_time = time.time()\n",
        "  auxRuido = listNodos.copy()\n",
        "  xPosition = auxRuido[:, 0]\n",
        "  yPosition = auxRuido[:, 1]\n",
        "  extremes1 = np.amin(xPosition)\n",
        "  extremes2 = np.amin(yPosition)\n",
        "  noiseX = [rd.randrange(-k1, k1, 1) for i in range(numNodos)]\n",
        "  noiseY = [rd.randrange(-k, k, 1) for i in range(numNodos)]\n",
        "  xPosition += noiseX\n",
        "  yPosition += noiseY\n",
        "  auxRuido[:,0] = xPosition \n",
        "  auxRuido[:,1] = yPosition\n",
        "  return constructivo1(auxRuido, numPmedians, numNodos)"
      ]
    },
    {
      "cell_type": "markdown",
      "metadata": {
        "id": "sAVCif3EVlgS"
      },
      "source": [
        "# Metodos auxiliares"
      ]
    },
    {
      "cell_type": "code",
      "execution_count": null,
      "metadata": {
        "id": "LY3GHqfmI4zp"
      },
      "outputs": [],
      "source": [
        "def distancia(a1, a2, b1, b2):\n",
        "  r = np.sqrt((a1-a2)**2+(b1-b2)**2)\n",
        "  return r"
      ]
    }
  ],
  "metadata": {
    "colab": {
      "collapsed_sections": [
        "cdGLkvRyHmj3",
        "iQXyFBT9Fr23",
        "lFATG7ssNIn0"
      ],
      "provenance": []
    },
    "kernelspec": {
      "display_name": "Python 3",
      "name": "python3"
    },
    "language_info": {
      "name": "python"
    }
  },
  "nbformat": 4,
  "nbformat_minor": 0
}