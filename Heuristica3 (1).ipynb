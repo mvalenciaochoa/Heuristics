{
  "cells": [
    {
      "cell_type": "markdown",
      "metadata": {
        "id": "xx4noAVE2nDH"
      },
      "source": [
        "# Downloads"
      ]
    },
    {
      "cell_type": "code",
      "execution_count": null,
      "metadata": {
        "colab": {
          "base_uri": "https://localhost:8080/"
        },
        "id": "i6X7mDcY2PAF",
        "outputId": "9e30c712-fd0a-4386-d9e4-c11f7f58c167"
      },
      "outputs": [
        {
          "name": "stdout",
          "output_type": "stream",
          "text": [
            "Looking in indexes: https://pypi.org/simple, https://us-python.pkg.dev/colab-wheels/public/simple/\n",
            "Collecting xlsxwriter\n",
            "  Downloading XlsxWriter-3.0.3-py3-none-any.whl (149 kB)\n",
            "\u001b[K     |████████████████████████████████| 149 kB 5.4 MB/s \n",
            "\u001b[?25hInstalling collected packages: xlsxwriter\n",
            "Successfully installed xlsxwriter-3.0.3\n"
          ]
        }
      ],
      "source": [
        "pip install xlsxwriter"
      ]
    },
    {
      "cell_type": "markdown",
      "metadata": {
        "id": "3aOgr6pZ2f9f"
      },
      "source": [
        "# Imports"
      ]
    },
    {
      "cell_type": "code",
      "execution_count": null,
      "metadata": {
        "id": "1mSw8hQq2jKw"
      },
      "outputs": [],
      "source": [
        "import zipfile\n",
        "import pandas as pd\n",
        "import numpy as np\n",
        "import matplotlib as plt\n",
        "import random as rd\n",
        "import time\n",
        "import os\n",
        "import openpyxl\n",
        "import xlsxwriter\n",
        "import math"
      ]
    },
    {
      "cell_type": "markdown",
      "metadata": {
        "id": "7XgWJX0h2qwg"
      },
      "source": [
        "# Main"
      ]
    },
    {
      "cell_type": "code",
      "execution_count": null,
      "metadata": {
        "colab": {
          "background_save": true,
          "base_uri": "https://localhost:8080/"
        },
        "id": "Zvklr0SC2vB6",
        "outputId": "cd94de3e-7f02-47e0-856e-37af50612752"
      },
      "outputs": [
        {
          "name": "stdout",
          "output_type": "stream",
          "text": [
            "['pmedcap1.txt', 'pmedcap2.txt']\n",
            "50\t5\t\t\n",
            "\n",
            "['50', '5', '', '\\n']\n",
            "['50', '5']\n",
            "True\n",
            "pmedcap1.txt\n",
            "50\t5\t\t\n",
            "\n",
            "['50', '5', '', '\\n']\n",
            "['50', '5']\n",
            "True\n",
            "pmedcap2.txt\n"
          ]
        }
      ],
      "source": [
        "\n",
        "writer1= pd.ExcelWriter('Hibrido.xlsx',engine='xlsxwriter')\n",
        "k=3\n",
        "s= zipfile.ZipFile('pmedcap.zip','r')\n",
        "Zipfile = ('pmedcap.zip','r')\n",
        "with s as zipObj:\n",
        "  listOfiles = zipObj.namelist()\n",
        "  print(listOfiles)\n",
        "  for elem in listOfiles:\n",
        "    txtdata = s.extract(elem)\n",
        "    listN = []\n",
        "    with open(txtdata) as f:\n",
        "      lines = f.readline()\n",
        "      print(lines)\n",
        "      list1 = list(lines.split(\"\\t\"))\n",
        "      print(list1)\n",
        "      lista = list(list1[0:2])\n",
        "      print(lista)\n",
        "      results = [int(i) for i in lista]\n",
        "      while lines:\n",
        "        lines = f.readline()\n",
        "        if lines == \"\":\n",
        "          break\n",
        "        else:\n",
        "          list1 = list(lines.split(\"\\t\"))\n",
        "          lista = [int(i) for i in list1]\n",
        "          lista = np.array(lista)\n",
        "          listN.append(lista)\n",
        "\n",
        "    listNodos = np.array(listN.copy())\n",
        "    numNodos = results[0]\n",
        "    numPmedians = results[1]\n",
        "    hib = hibrido(listNodos, numPmedians, numNodos)\n",
        "    print(elem)\n",
        "    hib.to_excel(writer1,sheet_name=elem)\n",
        "writer1.save()\n"
      ]
    },
    {
      "cell_type": "markdown",
      "metadata": {
        "id": "cWEEiAFO2vxX"
      },
      "source": [
        "# Main printing"
      ]
    },
    {
      "cell_type": "code",
      "execution_count": null,
      "metadata": {
        "colab": {
          "base_uri": "https://localhost:8080/",
          "height": 1000
        },
        "id": "8jJIbtkp271p",
        "outputId": "f427f8b6-d22d-4d03-9527-44119bbd3e94"
      },
      "outputs": [
        {
          "name": "stdout",
          "output_type": "stream",
          "text": [
            "pmedcap1.txt\n",
            "True\n",
            "      0           1     2     3     4     5     6     7     8     9      10  \\\n",
            "0   13.0   10.000000  13.0   2.0   6.0   8.0   9.0  20.0  35.0  40.0   43.0   \n",
            "1   20.0   12.000000  20.0   4.0   5.0  22.0  24.0  27.0  28.0  29.0   31.0   \n",
            "2   33.0   12.000000  33.0   1.0   3.0  11.0  14.0  21.0  39.0  41.0   44.0   \n",
            "3   34.0    9.000000  34.0  15.0  16.0  18.0  26.0  34.0  36.0  48.0  135.0   \n",
            "4   39.0   12.000000  39.0   7.0  10.0  13.0  17.0  23.0  25.0  30.0   42.0   \n",
            "5  766.0  205.641069   NaN   NaN   NaN   NaN   NaN   NaN   NaN   NaN    NaN   \n",
            "\n",
            "      11     12     13     14  15  \n",
            "0  109.0  109.0    NaN    NaN NaN  \n",
            "1   37.0   47.0  141.0  141.0 NaN  \n",
            "2   46.0   50.0  203.0  203.0 NaN  \n",
            "3  135.0    NaN    NaN    NaN NaN  \n",
            "4   45.0   49.0  178.0  178.0 NaN  \n",
            "5    NaN    NaN    NaN    NaN NaN  \n",
            "pmedcap2.txt\n",
            "True\n",
            "      0           1     2    3     4     5     6     7     8     9     10  \\\n",
            "0   17.0   11.000000  17.0  6.0  10.0  18.0  24.0  27.0  30.0  37.0  40.0   \n",
            "1   23.0   10.000000  23.0  2.0   4.0   5.0  11.0  12.0  14.0  31.0  32.0   \n",
            "2   27.0   11.000000  27.0  1.0   7.0   9.0  15.0  17.0  39.0  43.0  48.0   \n",
            "3   34.0   11.000000  34.0  3.0  19.0  25.0  29.0  34.0  36.0  41.0  44.0   \n",
            "4   48.0   12.000000  48.0  8.0  13.0  20.0  21.0  23.0  28.0  35.0  38.0   \n",
            "5  740.0  205.385302   NaN  NaN   NaN   NaN   NaN   NaN   NaN   NaN   NaN   \n",
            "\n",
            "      11     12     13     14  15  \n",
            "0   42.0  163.0  163.0    NaN NaN  \n",
            "1  138.0  138.0    NaN    NaN NaN  \n",
            "2   49.0  154.0  154.0    NaN NaN  \n",
            "3   46.0  161.0  161.0    NaN NaN  \n",
            "4   45.0   50.0  124.0  124.0 NaN  \n",
            "5    NaN    NaN    NaN    NaN NaN  \n",
            "pmedcap3.txt\n",
            "True\n",
            "        0           1     2     3     4     5     6     7     8     9   ...  \\\n",
            "0      9.0   17.000000   9.0   5.0   6.0   7.0  21.0  31.0  50.0  56.0  ...   \n",
            "1     61.0   12.000000  61.0   2.0  14.0  42.0  43.0  45.0  48.0  57.0  ...   \n",
            "2     69.0    6.000000  69.0  15.0  25.0  40.0  58.0  72.0  72.0   NaN  ...   \n",
            "3     73.0   10.000000  73.0   9.0  22.0  24.0  26.0  32.0  34.0  37.0  ...   \n",
            "4     74.0    9.000000  74.0  10.0  12.0  13.0  17.0  44.0  63.0  71.0  ...   \n",
            "5     81.0   12.000000  81.0   4.0  16.0  19.0  33.0  38.0  46.0  53.0  ...   \n",
            "6     86.0   12.000000  86.0   3.0  28.0  35.0  39.0  51.0  54.0  70.0  ...   \n",
            "7     89.0   12.000000  89.0   1.0  11.0  23.0  30.0  41.0  66.0  82.0  ...   \n",
            "8     91.0    8.000000  91.0  29.0  47.0  49.0  65.0  67.0  86.0  66.0  ...   \n",
            "9     98.0   12.000000  98.0  18.0  20.0  27.0  36.0  55.0  61.0  69.0  ...   \n",
            "10  1534.0  218.519296   NaN   NaN   NaN   NaN   NaN   NaN   NaN   NaN  ...   \n",
            "\n",
            "       11     12     13     14    15    16    17     18     19  20  \n",
            "0    64.0   75.0   78.0   79.0  81.0  89.0  91.0  267.0  267.0 NaN  \n",
            "1    87.0   94.0  154.0  154.0   NaN   NaN   NaN    NaN    NaN NaN  \n",
            "2     NaN    NaN    NaN    NaN   NaN   NaN   NaN    NaN    NaN NaN  \n",
            "3   127.0  127.0    NaN    NaN   NaN   NaN   NaN    NaN    NaN NaN  \n",
            "4   145.0    NaN    NaN    NaN   NaN   NaN   NaN    NaN    NaN NaN  \n",
            "5    98.0   99.0  153.0  153.0   NaN   NaN   NaN    NaN    NaN NaN  \n",
            "6    83.0  100.0  226.0  226.0   NaN   NaN   NaN    NaN    NaN NaN  \n",
            "7    93.0   96.0  162.0  162.0   NaN   NaN   NaN    NaN    NaN NaN  \n",
            "8     NaN    NaN    NaN    NaN   NaN   NaN   NaN    NaN    NaN NaN  \n",
            "9    92.0   95.0  162.0  162.0   NaN   NaN   NaN    NaN    NaN NaN  \n",
            "10    NaN    NaN    NaN    NaN   NaN   NaN   NaN    NaN    NaN NaN  \n",
            "\n",
            "[11 rows x 21 columns]\n",
            "pmedcap4.txt\n",
            "True\n",
            "        0           1     2     3     4     5     6     7      8      9   \\\n",
            "0     62.0   13.000000  62.0   2.0   7.0  46.0  54.0  58.0   59.0   64.0   \n",
            "1     73.0    5.000000  73.0   6.0  18.0  25.0  20.0  20.0    NaN    NaN   \n",
            "2     74.0    7.000000  74.0  33.0  51.0  62.0  84.0  97.0  127.0  127.0   \n",
            "3     76.0   13.000000  76.0  15.0  19.0  23.0  29.0  38.0   45.0   67.0   \n",
            "4     82.0   13.000000  82.0  21.0  26.0  42.0  44.0  48.0   49.0   50.0   \n",
            "5     83.0    9.000000  83.0   1.0  11.0  13.0  35.0  36.0   90.0   93.0   \n",
            "6     84.0   12.000000  84.0  24.0  32.0  37.0  47.0  52.0   55.0   57.0   \n",
            "7     87.0   13.000000  87.0   4.0   9.0  10.0  14.0  17.0   27.0   31.0   \n",
            "8     93.0   13.000000  93.0   3.0   5.0   8.0  12.0  16.0   22.0   43.0   \n",
            "9     96.0   12.000000  96.0  20.0  28.0  30.0  40.0  41.0   66.0   71.0   \n",
            "10  1423.0  232.968433   NaN   NaN   NaN   NaN   NaN   NaN    NaN    NaN   \n",
            "\n",
            "       10     11    12     13     14     15  16  \n",
            "0    77.0   88.0  91.0  100.0  118.0  118.0 NaN  \n",
            "1     NaN    NaN   NaN    NaN    NaN    NaN NaN  \n",
            "2     NaN    NaN   NaN    NaN    NaN    NaN NaN  \n",
            "3    74.0   76.0  85.0   89.0  105.0  105.0 NaN  \n",
            "4    65.0   69.0  80.0   94.0  222.0  222.0 NaN  \n",
            "5   185.0  185.0   NaN    NaN    NaN    NaN NaN  \n",
            "6    68.0   79.0  96.0  145.0  145.0    NaN NaN  \n",
            "7    34.0   39.0  53.0   60.0  213.0  213.0 NaN  \n",
            "8    56.0   63.0  70.0   78.0  118.0  118.0 NaN  \n",
            "9    87.0   98.0  99.0  170.0  170.0    NaN NaN  \n",
            "10    NaN    NaN   NaN    NaN    NaN    NaN NaN  \n",
            "pmedcap5.txt\n"
          ]
        },
        {
          "ename": "KeyboardInterrupt",
          "evalue": "ignored",
          "output_type": "error",
          "traceback": [
            "\u001b[0;31m---------------------------------------------------------------------------\u001b[0m",
            "\u001b[0;31mKeyboardInterrupt\u001b[0m                         Traceback (most recent call last)",
            "\u001b[0;32m<ipython-input-49-8b896fdb251c>\u001b[0m in \u001b[0;36m<module>\u001b[0;34m()\u001b[0m\n\u001b[1;32m     29\u001b[0m     \u001b[0mnumPmedians\u001b[0m \u001b[0;34m=\u001b[0m \u001b[0mresults\u001b[0m\u001b[0;34m[\u001b[0m\u001b[0;36m1\u001b[0m\u001b[0;34m]\u001b[0m\u001b[0;34m\u001b[0m\u001b[0;34m\u001b[0m\u001b[0m\n\u001b[1;32m     30\u001b[0m     \u001b[0mprint\u001b[0m\u001b[0;34m(\u001b[0m\u001b[0melem\u001b[0m\u001b[0;34m)\u001b[0m\u001b[0;34m\u001b[0m\u001b[0;34m\u001b[0m\u001b[0m\n\u001b[0;32m---> 31\u001b[0;31m     \u001b[0mhib\u001b[0m \u001b[0;34m=\u001b[0m \u001b[0mhibrido\u001b[0m\u001b[0;34m(\u001b[0m\u001b[0mlistNodos\u001b[0m\u001b[0;34m,\u001b[0m \u001b[0mnumPmedians\u001b[0m\u001b[0;34m,\u001b[0m \u001b[0mnumNodos\u001b[0m\u001b[0;34m)\u001b[0m\u001b[0;34m\u001b[0m\u001b[0;34m\u001b[0m\u001b[0m\n\u001b[0m\u001b[1;32m     32\u001b[0m     \u001b[0mprint\u001b[0m\u001b[0;34m(\u001b[0m\u001b[0mhib\u001b[0m\u001b[0;34m)\u001b[0m\u001b[0;34m\u001b[0m\u001b[0;34m\u001b[0m\u001b[0m\n\u001b[1;32m     33\u001b[0m \u001b[0;34m\u001b[0m\u001b[0m\n",
            "\u001b[0;32m<ipython-input-48-08b3c7edd817>\u001b[0m in \u001b[0;36mhibrido\u001b[0;34m(listNodos, numPmedians, numNodos)\u001b[0m\n\u001b[1;32m      4\u001b[0m   \u001b[0mpadres\u001b[0m\u001b[0;34m,\u001b[0m \u001b[0manexos\u001b[0m\u001b[0;34m,\u001b[0m \u001b[0mlistasNodos\u001b[0m\u001b[0;34m,\u001b[0m \u001b[0mfos\u001b[0m \u001b[0;34m=\u001b[0m \u001b[0mseleccion\u001b[0m\u001b[0;34m(\u001b[0m\u001b[0mnumPmedians\u001b[0m\u001b[0;34m,\u001b[0m \u001b[0mnumNodos\u001b[0m\u001b[0;34m,\u001b[0m \u001b[0;36m30\u001b[0m\u001b[0;34m,\u001b[0m \u001b[0;36m20\u001b[0m\u001b[0;34m,\u001b[0m \u001b[0mlistDistances\u001b[0m\u001b[0;34m)\u001b[0m\u001b[0;34m\u001b[0m\u001b[0;34m\u001b[0m\u001b[0m\n\u001b[1;32m      5\u001b[0m   \u001b[0;32mwhile\u001b[0m \u001b[0mtime\u001b[0m\u001b[0;34m.\u001b[0m\u001b[0mtime\u001b[0m\u001b[0;34m(\u001b[0m\u001b[0;34m)\u001b[0m \u001b[0;34m-\u001b[0m \u001b[0mstartTime\u001b[0m \u001b[0;34m<\u001b[0m \u001b[0;36m60\u001b[0m\u001b[0;34m:\u001b[0m\u001b[0;34m\u001b[0m\u001b[0;34m\u001b[0m\u001b[0m\n\u001b[0;32m----> 6\u001b[0;31m     \u001b[0mpadres\u001b[0m\u001b[0;34m,\u001b[0m \u001b[0manexos\u001b[0m\u001b[0;34m,\u001b[0m \u001b[0mfos\u001b[0m\u001b[0;34m,\u001b[0m \u001b[0mlistasNodos\u001b[0m \u001b[0;34m=\u001b[0m \u001b[0mcrossover\u001b[0m\u001b[0;34m(\u001b[0m\u001b[0mpadres\u001b[0m\u001b[0;34m,\u001b[0m \u001b[0manexos\u001b[0m\u001b[0;34m,\u001b[0m \u001b[0mlistasNodos\u001b[0m\u001b[0;34m,\u001b[0m \u001b[0mfos\u001b[0m\u001b[0;34m,\u001b[0m \u001b[0mnumPmedians\u001b[0m\u001b[0;34m,\u001b[0m \u001b[0mnumNodos\u001b[0m\u001b[0;34m,\u001b[0m \u001b[0mlistNodos\u001b[0m\u001b[0;34m,\u001b[0m  \u001b[0mlistDistances\u001b[0m\u001b[0;34m)\u001b[0m\u001b[0;34m\u001b[0m\u001b[0;34m\u001b[0m\u001b[0m\n\u001b[0m\u001b[1;32m      7\u001b[0m \u001b[0;34m\u001b[0m\u001b[0m\n\u001b[1;32m      8\u001b[0m   \u001b[0mfuncObj\u001b[0m \u001b[0;34m=\u001b[0m \u001b[0mnp\u001b[0m\u001b[0;34m.\u001b[0m\u001b[0mamax\u001b[0m\u001b[0;34m(\u001b[0m\u001b[0mfos\u001b[0m\u001b[0;34m)\u001b[0m\u001b[0;34m\u001b[0m\u001b[0;34m\u001b[0m\u001b[0m\n",
            "\u001b[0;32m<ipython-input-36-cf0831bd04fb>\u001b[0m in \u001b[0;36mcrossover\u001b[0;34m(padres, anexos, listasNodos, fos, numPmedians, numNodos, listNodos, listDistances)\u001b[0m\n\u001b[1;32m     35\u001b[0m       \u001b[0mstartTime1\u001b[0m \u001b[0;34m=\u001b[0m \u001b[0mtime\u001b[0m\u001b[0;34m.\u001b[0m\u001b[0mtime\u001b[0m\u001b[0;34m(\u001b[0m\u001b[0;34m)\u001b[0m\u001b[0;34m\u001b[0m\u001b[0;34m\u001b[0m\u001b[0m\n\u001b[1;32m     36\u001b[0m       \u001b[0;32mwhile\u001b[0m \u001b[0mtime\u001b[0m\u001b[0;34m.\u001b[0m\u001b[0mtime\u001b[0m\u001b[0;34m(\u001b[0m\u001b[0;34m)\u001b[0m \u001b[0;34m-\u001b[0m \u001b[0mstartTime1\u001b[0m \u001b[0;34m<\u001b[0m \u001b[0;36m10\u001b[0m\u001b[0;34m:\u001b[0m\u001b[0;34m\u001b[0m\u001b[0;34m\u001b[0m\u001b[0m\n\u001b[0;32m---> 37\u001b[0;31m         \u001b[0mchild\u001b[0m\u001b[0;34m,\u001b[0m \u001b[0manexo\u001b[0m\u001b[0;34m,\u001b[0m \u001b[0mfo\u001b[0m\u001b[0;34m,\u001b[0m \u001b[0mlnodo\u001b[0m \u001b[0;34m=\u001b[0m \u001b[0mvecindarioEleccionPmeds\u001b[0m\u001b[0;34m(\u001b[0m\u001b[0mlistNodos\u001b[0m\u001b[0;34m,\u001b[0m \u001b[0mnumPmedians\u001b[0m\u001b[0;34m,\u001b[0m \u001b[0mnumNodos\u001b[0m\u001b[0;34m,\u001b[0m \u001b[0mchild\u001b[0m\u001b[0;34m,\u001b[0m \u001b[0manexo\u001b[0m\u001b[0;34m,\u001b[0m \u001b[0mfo\u001b[0m\u001b[0;34m,\u001b[0m \u001b[0mlistDistances\u001b[0m\u001b[0;34m,\u001b[0m \u001b[0mlnodo\u001b[0m\u001b[0;34m)\u001b[0m\u001b[0;34m\u001b[0m\u001b[0;34m\u001b[0m\u001b[0m\n\u001b[0m\u001b[1;32m     38\u001b[0m       \u001b[0mchildren\u001b[0m\u001b[0;34m.\u001b[0m\u001b[0mappend\u001b[0m\u001b[0;34m(\u001b[0m\u001b[0mchild\u001b[0m\u001b[0;34m)\u001b[0m\u001b[0;34m\u001b[0m\u001b[0;34m\u001b[0m\u001b[0m\n\u001b[1;32m     39\u001b[0m       \u001b[0manexos1\u001b[0m\u001b[0;34m.\u001b[0m\u001b[0mappend\u001b[0m\u001b[0;34m(\u001b[0m\u001b[0manexo\u001b[0m\u001b[0;34m)\u001b[0m\u001b[0;34m\u001b[0m\u001b[0;34m\u001b[0m\u001b[0m\n",
            "\u001b[0;32m<ipython-input-8-1760c7d5c78d>\u001b[0m in \u001b[0;36mvecindarioEleccionPmeds\u001b[0;34m(listNodos, numPmedians, numNodos, posibles, anexoInicial, foInicial, listD, listNodosI)\u001b[0m\n\u001b[1;32m      8\u001b[0m           \u001b[0mxp\u001b[0m\u001b[0;34m[\u001b[0m\u001b[0mi\u001b[0m\u001b[0;34m]\u001b[0m \u001b[0;34m=\u001b[0m \u001b[0;36m0\u001b[0m\u001b[0;34m\u001b[0m\u001b[0;34m\u001b[0m\u001b[0m\n\u001b[1;32m      9\u001b[0m           \u001b[0mxp\u001b[0m\u001b[0;34m[\u001b[0m\u001b[0mj\u001b[0m\u001b[0;34m]\u001b[0m \u001b[0;34m=\u001b[0m \u001b[0;36m1\u001b[0m\u001b[0;34m\u001b[0m\u001b[0;34m\u001b[0m\u001b[0m\n\u001b[0;32m---> 10\u001b[0;31m           \u001b[0manexo\u001b[0m\u001b[0;34m,\u001b[0m \u001b[0mfo\u001b[0m\u001b[0;34m,\u001b[0m \u001b[0mlistN\u001b[0m \u001b[0;34m=\u001b[0m \u001b[0mcalculoFo\u001b[0m\u001b[0;34m(\u001b[0m\u001b[0mxp\u001b[0m\u001b[0;34m,\u001b[0m \u001b[0mlistD\u001b[0m\u001b[0;34m,\u001b[0m \u001b[0mlistNodos\u001b[0m\u001b[0;34m)\u001b[0m\u001b[0;34m\u001b[0m\u001b[0;34m\u001b[0m\u001b[0m\n\u001b[0m\u001b[1;32m     11\u001b[0m           \u001b[0;31m#mejoria\u001b[0m\u001b[0;34m\u001b[0m\u001b[0;34m\u001b[0m\u001b[0;34m\u001b[0m\u001b[0m\n\u001b[1;32m     12\u001b[0m           \u001b[0;32mif\u001b[0m \u001b[0mfo\u001b[0m \u001b[0;34m<\u001b[0m \u001b[0mfoInicial\u001b[0m \u001b[0;34m:\u001b[0m\u001b[0;34m\u001b[0m\u001b[0;34m\u001b[0m\u001b[0m\n",
            "\u001b[0;32m<ipython-input-6-de77dac01ab9>\u001b[0m in \u001b[0;36mcalculoFo\u001b[0;34m(vecino, listDistances, listNodos)\u001b[0m\n\u001b[1;32m      7\u001b[0m   \u001b[0;32mfor\u001b[0m \u001b[0mj\u001b[0m \u001b[0;32min\u001b[0m \u001b[0mrange\u001b[0m\u001b[0;34m(\u001b[0m\u001b[0mnumNodos\u001b[0m\u001b[0;34m)\u001b[0m\u001b[0;34m:\u001b[0m\u001b[0;34m\u001b[0m\u001b[0;34m\u001b[0m\u001b[0m\n\u001b[1;32m      8\u001b[0m     \u001b[0marray\u001b[0m \u001b[0;34m=\u001b[0m \u001b[0mlistDistances\u001b[0m\u001b[0;34m[\u001b[0m\u001b[0;34m:\u001b[0m\u001b[0;34m,\u001b[0m\u001b[0mj\u001b[0m\u001b[0;34m]\u001b[0m\u001b[0;34m\u001b[0m\u001b[0;34m\u001b[0m\u001b[0m\n\u001b[0;32m----> 9\u001b[0;31m     \u001b[0msort\u001b[0m \u001b[0;34m=\u001b[0m \u001b[0msorted\u001b[0m\u001b[0;34m(\u001b[0m\u001b[0mrange\u001b[0m\u001b[0;34m(\u001b[0m\u001b[0mlen\u001b[0m\u001b[0;34m(\u001b[0m\u001b[0marray\u001b[0m\u001b[0;34m)\u001b[0m\u001b[0;34m)\u001b[0m\u001b[0;34m,\u001b[0m \u001b[0mkey\u001b[0m \u001b[0;34m=\u001b[0m \u001b[0;32mlambda\u001b[0m \u001b[0mk\u001b[0m\u001b[0;34m:\u001b[0m \u001b[0marray\u001b[0m\u001b[0;34m[\u001b[0m\u001b[0mk\u001b[0m\u001b[0;34m]\u001b[0m\u001b[0;34m)\u001b[0m\u001b[0;34m\u001b[0m\u001b[0;34m\u001b[0m\u001b[0m\n\u001b[0m\u001b[1;32m     10\u001b[0m     \u001b[0;32mif\u001b[0m \u001b[0mj\u001b[0m \u001b[0;32mnot\u001b[0m \u001b[0;32min\u001b[0m \u001b[0mayuda1\u001b[0m\u001b[0;34m:\u001b[0m\u001b[0;34m\u001b[0m\u001b[0;34m\u001b[0m\u001b[0m\n\u001b[1;32m     11\u001b[0m       \u001b[0;32mfor\u001b[0m \u001b[0mv\u001b[0m \u001b[0;32min\u001b[0m \u001b[0msort\u001b[0m\u001b[0;34m:\u001b[0m\u001b[0;34m\u001b[0m\u001b[0;34m\u001b[0m\u001b[0m\n",
            "\u001b[0;31mKeyboardInterrupt\u001b[0m: "
          ]
        }
      ],
      "source": [
        "s= zipfile.ZipFile('pmedcap.zip','r')\n",
        "Zipfile = ('pmedcap.zip','r')\n",
        "with s as zipObj:\n",
        "  listOfiles = zipObj.namelist()\n",
        "  #print(listOfiles)\n",
        "  for elem in listOfiles:\n",
        "    txtdata = s.extract(elem)\n",
        "    listN = []\n",
        "    with open(txtdata) as f:\n",
        "      lines = f.readline()\n",
        "      #print(lines)\n",
        "      list1 = list(lines.split(\"\\t\"))\n",
        "      #print(list1)\n",
        "      lista = list(list1[0:2])\n",
        "      #print(lista)\n",
        "      results = [int(i) for i in lista]\n",
        "      while lines:\n",
        "        lines = f.readline()\n",
        "        if lines == \"\":\n",
        "          break\n",
        "        else:\n",
        "          list1 = list(lines.split(\"\\t\"))\n",
        "          lista = [int(i) for i in list1]\n",
        "          lista = np.array(lista)\n",
        "          listN.append(lista)\n",
        "\n",
        "    listNodos = np.array(listN.copy())\n",
        "    numNodos = results[0]\n",
        "    numPmedians = results[1]\n",
        "    print(elem)\n",
        "    hib = hibrido(listNodos, numPmedians, numNodos)\n",
        "    print(hib)\n",
        "    "
      ]
    },
    {
      "cell_type": "markdown",
      "metadata": {
        "id": "jI02a4Im29Fl"
      },
      "source": [
        "# Llamador algoritmo"
      ]
    },
    {
      "cell_type": "code",
      "execution_count": null,
      "metadata": {
        "id": "AtxklyR_3_3e"
      },
      "outputs": [],
      "source": [
        "def hibrido(listNodos, numPmedians, numNodos):\n",
        "  startTime = time.time()\n",
        "  listDistances = matrizDistancias(listNodos, numNodos, numPmedians)\n",
        "  padres, anexos, listasNodos, fos = seleccion(numPmedians, numNodos, 30, 20, listDistances)\n",
        "  while time.time() - startTime < 60:\n",
        "    padres, anexos, fos, listasNodos = crossover(padres, anexos, listasNodos, fos, numPmedians, numNodos, listNodos,  listDistances) \n",
        "  \n",
        "  funcObj = np.amin(fos)\n",
        "  index = np.where(fos == funcObj)[0][0]\n",
        "  sol = padres[index]\n",
        "  anex = anexos[index]\n",
        "  lnod = listasNodos[index]\n",
        "  \n",
        "  fax = faxCheck(listNodos, numPmedians, numNodos, sol, anex, funcObj, listDistances)\n",
        "  print(fax)\n",
        "\n",
        "  linFo = calculoFo2(sol, anex, listDistances)\n",
        "  sol = np.where(sol == 1)[0]\n",
        "  for i in range(len(anex)):\n",
        "    for j in range(len(anex[i])):\n",
        "      anex[i][j] += 1\n",
        "    linFo[i] -= 1\n",
        "    sol[i] += 1\n",
        "  \n",
        "  ultimaFila = [np.sum(linFo) + numPmedians, time.time()- startTime]  \n",
        "  dfout = formato(sol, anex, ultimaFila, numPmedians, linFo)\n",
        "  return dfout\n",
        "\n",
        "\n",
        "\n"
      ]
    },
    {
      "cell_type": "markdown",
      "metadata": {
        "id": "QEIA_O7U4E4L"
      },
      "source": [
        "#Selección"
      ]
    },
    {
      "cell_type": "code",
      "execution_count": null,
      "metadata": {
        "id": "ydXIfjk24LOZ"
      },
      "outputs": [],
      "source": [
        "def seleccion(numPmedians, numNodos, numSolIn, percentToTake, listDistances):\n",
        "  solIn = []\n",
        "  tamSave = int(numSolIn/100 * percentToTake)\n",
        "\n",
        "  for i in range(numSolIn):\n",
        "    indexes = rd.sample(range(numNodos), numPmedians)\n",
        "    posibles = np.zeros(numNodos)\n",
        "    for i in indexes:\n",
        "     posibles[i] = 1\n",
        "    solIn.append(posibles)\n",
        "  \n",
        "  anexos = []\n",
        "  listasNodos = []\n",
        "  fos = []\n",
        "  guardados = []\n",
        "  guardadosAnexos = []\n",
        "  guardadosListasNodos = []\n",
        "  guardadosFos = []\n",
        "  for i in solIn:\n",
        "    anexo, fo, lnodo = calculoFo(i, listDistances, listNodos)\n",
        "    anexos.append(anexo)\n",
        "    fos.append(fo)\n",
        "    listasNodos.append(lnodo)\n",
        "  sort = sorted(range(len(fos)), key = lambda k: fos[k])\n",
        "  for i in range(int(tamSave)):\n",
        "    indice = sort[i]\n",
        "    guardados.append(solIn[indice])\n",
        "    guardadosAnexos.append(anexos[indice])\n",
        "    guardadosListasNodos.append(listasNodos[indice])\n",
        "    guardadosFos.append(fos[indice])\n",
        "  return guardados, guardadosAnexos, guardadosListasNodos, guardadosFos"
      ]
    },
    {
      "cell_type": "markdown",
      "metadata": {
        "id": "ST-jEtRAFtWK"
      },
      "source": [
        "# CrossOver"
      ]
    },
    {
      "cell_type": "code",
      "execution_count": null,
      "metadata": {
        "id": "7_YTQufVFrCk"
      },
      "outputs": [],
      "source": [
        "def crossover(padres, anexos, listasNodos, fos, numPmedians, numNodos, listNodos,  listDistances):\n",
        "  padresIndices = []\n",
        "  children = []\n",
        "  anexos1 = []\n",
        "  listasNodos1 = []\n",
        "  fos1 = []\n",
        "  for i in padres:\n",
        "    padresInd = np.where(i != 0)[0]\n",
        "    padresIndices.append(padresInd)\n",
        "\n",
        "  for i in range(len(padresIndices)-1):\n",
        "    for j in range(i, len(padresIndices)):\n",
        "      repetidos = []\n",
        "      dad = padresIndices[i]\n",
        "      mom = padresIndices[j]\n",
        "      for elem1 in dad:\n",
        "        if elem1 in mom:\n",
        "          repetidos.append(elem1)\n",
        "      if len(repetidos) == 0:\n",
        "        continue\n",
        "      else:\n",
        "        child = np.zeros(numNodos)\n",
        "        child[repetidos] += 1\n",
        "      comp = numPmedians - len(repetidos)\n",
        "      cont = 0\n",
        "      while cont < comp:\n",
        "        rand = rd.randint(0, numNodos-1)\n",
        "        if rand in repetidos:\n",
        "          continue\n",
        "        else:\n",
        "          repetidos.append(rand)\n",
        "          child[rand] += 1\n",
        "          cont += 1\n",
        "      anexo, fo, lnodo = calculoFo(child, listDistances, listNodos)\n",
        "      startTime1 = time.time()\n",
        "      while time.time() - startTime1 < 20:\n",
        "        child, anexo, fo, lnodo = vecindarioEleccionPmeds(listNodos, numPmedians, numNodos, child, anexo, fo, listDistances, lnodo)\n",
        "      children.append(child)\n",
        "      anexos1.append(anexo)\n",
        "      fos1.append(fo)\n",
        "      listasNodos1.append(lnodo)\n",
        "  \n",
        "  return children, anexos1, fos1, listasNodos1"
      ]
    },
    {
      "cell_type": "markdown",
      "metadata": {
        "id": "kAui1sQ4eowb"
      },
      "source": [
        "# Vecindario cambio pmed"
      ]
    },
    {
      "cell_type": "code",
      "execution_count": null,
      "metadata": {
        "id": "4pTdnFWHesHL"
      },
      "outputs": [],
      "source": [
        "def vecindarioEleccionPmeds(listNodos, numPmedians, numNodos, posibles, anexoInicial, foInicial, listD, listNodosI):\n",
        "  start_time1 = time.time()\n",
        "  for i in range(len(posibles)):\n",
        "    if posibles[i] == 1:\n",
        "      for j in range(len(posibles)):\n",
        "        if posibles[j] == 0:\n",
        "          xp = posibles.copy()\n",
        "          xp[i] = 0\n",
        "          xp[j] = 1\n",
        "          anexo, fo, listN = calculoFo(xp, listD, listNodos)\n",
        "          #mejoria\n",
        "          if fo < foInicial :\n",
        "            return xp, anexo, fo, listN\n",
        "          #Parada de emergencia\n",
        "          if time.time()-start_time1 >= 30:\n",
        "            return posibles, anexoInicial, foInicial, listNodosI\n",
        "  return posibles, anexoInicial, foInicial, listNodosI"
      ]
    },
    {
      "cell_type": "markdown",
      "metadata": {
        "id": "fv48_Tt07zRM"
      },
      "source": [
        "# Auxiliares"
      ]
    },
    {
      "cell_type": "code",
      "execution_count": null,
      "metadata": {
        "id": "n5gCOz4svwOG"
      },
      "outputs": [],
      "source": [
        "def faxCheck(listNodos, numPmedians, numNodos, posibles, anexoInicial, foInicial, listD):\n",
        "  aux = listNodos.copy()\n",
        "  caps = []\n",
        "  dems = 0\n",
        "  for i in range(numPmedians):\n",
        "    cent = anexoInicial[i][0]\n",
        "    dem = aux[cent, 3] \n",
        "    for j in range(1, len(anexoInicial[i])):\n",
        "      dem += aux[anexoInicial[i][j], 3]\n",
        "    dems += dem\n",
        "    leftCap = aux[cent, 2] - dem\n",
        "    #print(leftCap)\n",
        "    caps.append(leftCap)\n",
        "  boole = True\n",
        "  for i in caps:\n",
        "    if i<0:\n",
        "      boole = False\n",
        "  return boole"
      ]
    },
    {
      "cell_type": "code",
      "execution_count": null,
      "metadata": {
        "id": "dAZZ0JFj73ix"
      },
      "outputs": [],
      "source": [
        "def calculoFo(vecino, listDistances, listNodos):\n",
        "  posibles = np.where(vecino != 0 )[0]\n",
        "  aux = listNodos.copy()\n",
        "  ayuda = list(map(lambda el:[el], posibles.copy()))\n",
        "  ayuda1 = posibles.copy()\n",
        "\n",
        "  for j in range(numNodos):\n",
        "    array = listDistances[:,j]\n",
        "    sort = sorted(range(len(array)), key = lambda k: array[k])\n",
        "    if j not in ayuda1:\n",
        "      for v in sort:\n",
        "            if ((aux[v, 2] >= aux[v, 3] + aux[j, 3]) and (v in ayuda1)):\n",
        "              addTo = np.where(ayuda1 == v)[0][0]\n",
        "              aux[v, 3] += aux[j, 3]\n",
        "              ayuda[addTo].append(j)\n",
        "              break\n",
        "  \n",
        "  \n",
        "  fo = np.zeros(len(posibles))\n",
        "  ayuda1 = np.array(posibles.copy())\n",
        "  for i in posibles:\n",
        "    ayu = np.where(ayuda1 == i)\n",
        "    added = 0\n",
        "    for j in ayuda[ayu[0][0]]:\n",
        "      added += int(listDistances[i, j])\n",
        "    fo[ayu[0][0]] += added\n",
        "  sumaTotal = sum(fo)\n",
        "  return ayuda, sumaTotal, aux"
      ]
    },
    {
      "cell_type": "code",
      "execution_count": null,
      "metadata": {
        "id": "Il66-kzJ-SCU"
      },
      "outputs": [],
      "source": [
        "def matrizDistancias(listNodos, numNodos, numPmedians):\n",
        "  aux = listNodos.copy()\n",
        "  listDistances = np.zeros([numNodos, numNodos])\n",
        "  for i in range(numNodos):\n",
        "    listDistance = np.zeros(numNodos)\n",
        "    for n in range( numNodos):\n",
        "      distance = distancia(aux[i, 0], aux[n, 0], aux[i, 1], aux[n, 1]) \n",
        "      listDistance[n] = distance\n",
        "    listDistances[i] += listDistance\n",
        "  return listDistances"
      ]
    },
    {
      "cell_type": "code",
      "execution_count": null,
      "metadata": {
        "id": "b0JY_m5d-Vnw"
      },
      "outputs": [],
      "source": [
        "def distancia(a1, a2, b1, b2):\n",
        "  r = np.sqrt((a1-a2)**2+(b1-b2)**2)\n",
        "  return r"
      ]
    },
    {
      "cell_type": "code",
      "execution_count": null,
      "metadata": {
        "id": "kFjcHAHYZJ6K"
      },
      "outputs": [],
      "source": [
        "def calculoFo2(vecino, anexados, listDistances):\n",
        "  posibles = np.where(vecino != 0 )[0]\n",
        "  fo = np.zeros(len(posibles))\n",
        "  ayuda1 = np.array(posibles.copy())\n",
        "  for i in posibles:\n",
        "    ayu = np.where(ayuda1 == i)\n",
        "    added = 0\n",
        "    for j in anexados[ayu[0][0]]:\n",
        "      added += int(listDistances[i, j])\n",
        "    fo[ayu[0][0]] += added\n",
        "  return fo"
      ]
    },
    {
      "cell_type": "code",
      "execution_count": null,
      "metadata": {
        "id": "bnQstBm2m3zG"
      },
      "outputs": [],
      "source": [
        "def formato(bases, anexos, ultimaFila, numPmedians, fos): \n",
        "  cuantosHay = []\n",
        "  for i in range(len(anexos)):\n",
        "    anexos[i].append(fos[i])\n",
        "  for i in anexos:\n",
        "    cuantosHay.append(len(i) - 1)\n",
        "  df= np.empty((numPmedians+1,max(cuantosHay)+4))\n",
        "  df[:]= np.nan\n",
        "  df= pd.DataFrame(df) #creo el data frame\n",
        "  for i in range(numPmedians):\n",
        "    df.loc[i,0]= bases[i] + 1\n",
        "    df.loc[i,1]= cuantosHay[i]\n",
        "    for j in range(len(anexos[i])):\n",
        "      df.loc[i,j+2]= int(anexos[i][j]) + 1\n",
        "  df.loc[numPmedians,0]= int(ultimaFila[0])\n",
        "  df.loc[numPmedians,1]= ultimaFila[1] \n",
        "  return df"
      ]
    }
  ],
  "metadata": {
    "colab": {
      "collapsed_sections": [
        "xx4noAVE2nDH",
        "3aOgr6pZ2f9f",
        "cWEEiAFO2vxX"
      ],
      "provenance": []
    },
    "kernelspec": {
      "display_name": "Python 3",
      "name": "python3"
    },
    "language_info": {
      "name": "python"
    }
  },
  "nbformat": 4,
  "nbformat_minor": 0
}